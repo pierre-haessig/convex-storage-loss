{
 "cells": [
  {
   "cell_type": "markdown",
   "metadata": {},
   "source": [
    "# Convexity of the ohmic model\n",
    "\n",
    "(see also handwritten notes)\n",
    "\n",
    "PH, July 2020"
   ]
  },
  {
   "cell_type": "code",
   "execution_count": 18,
   "metadata": {},
   "outputs": [],
   "source": [
    "import numpy as np\n",
    "import matplotlib.pyplot as plt"
   ]
  },
  {
   "cell_type": "code",
   "execution_count": 112,
   "metadata": {},
   "outputs": [],
   "source": [
    "import sympy\n",
    "from sympy import symbols, simplify, sqrt, lambdify"
   ]
  },
  {
   "cell_type": "code",
   "execution_count": 173,
   "metadata": {},
   "outputs": [],
   "source": [
    "e, y, R, v0 = symbols('e y R v0', positive=True)\n",
    "p, x = symbols('p x')"
   ]
  },
  {
   "cell_type": "markdown",
   "metadata": {},
   "source": [
    "## Convexity in the power"
   ]
  },
  {
   "cell_type": "markdown",
   "metadata": {},
   "source": [
    "Correction factor c(i)"
   ]
  },
  {
   "cell_type": "code",
   "execution_count": 174,
   "metadata": {},
   "outputs": [
    {
     "data": {
      "text/latex": [
       "$\\displaystyle \\frac{2}{\\sqrt{\\frac{4 R p}{v_{0}^{2}} + 1} + 1}$"
      ],
      "text/plain": [
       "2/(sqrt(4*R*p/v0**2 + 1) + 1)"
      ]
     },
     "execution_count": 174,
     "metadata": {},
     "output_type": "execute_result"
    }
   ],
   "source": [
    "c = 2/(1+sqrt(1+4*p*R/v0**2))\n",
    "c"
   ]
  },
  {
   "cell_type": "code",
   "execution_count": 16,
   "metadata": {},
   "outputs": [
    {
     "data": {
      "text/plain": [
       "(1, 2, 0.828427124746190)"
      ]
     },
     "execution_count": 16,
     "metadata": {},
     "output_type": "execute_result"
    }
   ],
   "source": [
    "c.subs({R:1, v0:1, p:0}), c.subs({R:1, v0:1, p:-1/4}), c.subs({R:1, v0:1, p:+1/4})"
   ]
  },
  {
   "cell_type": "code",
   "execution_count": 17,
   "metadata": {},
   "outputs": [
    {
     "data": {
      "text/latex": [
       "$\\displaystyle \\frac{2 p}{v_{0} \\left(\\sqrt{\\frac{4 R p}{v_{0}^{2}} + 1} + 1\\right)}$"
      ],
      "text/plain": [
       "2*p/(v0*(sqrt(4*R*p/v0**2 + 1) + 1))"
      ]
     },
     "execution_count": 17,
     "metadata": {},
     "output_type": "execute_result"
    }
   ],
   "source": [
    "i = p/v0*c\n",
    "i"
   ]
  },
  {
   "cell_type": "markdown",
   "metadata": {},
   "source": [
    "Normarlized current, with $x = 4p$ (so $x > -1 $)"
   ]
  },
  {
   "cell_type": "code",
   "execution_count": 168,
   "metadata": {},
   "outputs": [
    {
     "data": {
      "text/latex": [
       "$\\displaystyle \\frac{x}{\\sqrt{x + 1} + 1}$"
      ],
      "text/plain": [
       "x/(sqrt(x + 1) + 1)"
      ]
     },
     "execution_count": 168,
     "metadata": {},
     "output_type": "execute_result"
    }
   ],
   "source": [
    "i_n = i.subs({R:1, v0:1, p:x/4})*2\n",
    "i_n"
   ]
  },
  {
   "cell_type": "markdown",
   "metadata": {},
   "source": [
    "Joule losses"
   ]
  },
  {
   "cell_type": "code",
   "execution_count": 152,
   "metadata": {},
   "outputs": [
    {
     "data": {
      "text/latex": [
       "$\\displaystyle \\frac{4 R p^{2}}{v_{0}^{2} \\left(\\sqrt{\\frac{4 R p}{v_{0}^{2}} + 1} + 1\\right)^{2}}$"
      ],
      "text/plain": [
       "4*R*p**2/(v0**2*(sqrt(4*R*p/v0**2 + 1) + 1)**2)"
      ]
     },
     "execution_count": 152,
     "metadata": {},
     "output_type": "execute_result"
    }
   ],
   "source": [
    "pJ = R*i**2\n",
    "pJ"
   ]
  },
  {
   "cell_type": "markdown",
   "metadata": {},
   "source": [
    "normalized Joule losses"
   ]
  },
  {
   "cell_type": "code",
   "execution_count": 153,
   "metadata": {},
   "outputs": [
    {
     "data": {
      "text/latex": [
       "$\\displaystyle \\frac{x^{2}}{\\left(\\sqrt{x + 1} + 1\\right)^{2}}$"
      ],
      "text/plain": [
       "x**2/(sqrt(x + 1) + 1)**2"
      ]
     },
     "execution_count": 153,
     "metadata": {},
     "output_type": "execute_result"
    }
   ],
   "source": [
    "pJn = i_n**2\n",
    "pJn"
   ]
  },
  {
   "cell_type": "markdown",
   "metadata": {},
   "source": [
    "First derivative"
   ]
  },
  {
   "cell_type": "code",
   "execution_count": 154,
   "metadata": {},
   "outputs": [
    {
     "data": {
      "text/latex": [
       "$\\displaystyle - \\frac{x^{2}}{\\sqrt{x + 1} \\left(\\sqrt{x + 1} + 1\\right)^{3}} + \\frac{2 x}{\\left(\\sqrt{x + 1} + 1\\right)^{2}}$"
      ],
      "text/plain": [
       "-x**2/(sqrt(x + 1)*(sqrt(x + 1) + 1)**3) + 2*x/(sqrt(x + 1) + 1)**2"
      ]
     },
     "execution_count": 154,
     "metadata": {},
     "output_type": "execute_result"
    }
   ],
   "source": [
    "pJn.diff(x,1)"
   ]
  },
  {
   "cell_type": "markdown",
   "metadata": {},
   "source": [
    "second derivative: difficult to proove it is ≥ 0!"
   ]
  },
  {
   "cell_type": "code",
   "execution_count": 155,
   "metadata": {},
   "outputs": [
    {
     "data": {
      "text/latex": [
       "$\\displaystyle \\frac{\\frac{x^{2} \\left(\\frac{3}{\\left(x + 1\\right) \\left(\\sqrt{x + 1} + 1\\right)} + \\frac{1}{\\left(x + 1\\right)^{\\frac{3}{2}}}\\right)}{2 \\left(\\sqrt{x + 1} + 1\\right)} - \\frac{4 x}{\\sqrt{x + 1} \\left(\\sqrt{x + 1} + 1\\right)} + 2}{\\left(\\sqrt{x + 1} + 1\\right)^{2}}$"
      ],
      "text/plain": [
       "(x**2*(3/((x + 1)*(sqrt(x + 1) + 1)) + (x + 1)**(-3/2))/(2*(sqrt(x + 1) + 1)) - 4*x/(sqrt(x + 1)*(sqrt(x + 1) + 1)) + 2)/(sqrt(x + 1) + 1)**2"
      ]
     },
     "execution_count": 155,
     "metadata": {},
     "output_type": "execute_result"
    }
   ],
   "source": [
    "d2pJn = pJn.diff(x,2)\n",
    "d2pJn"
   ]
  },
  {
   "cell_type": "markdown",
   "metadata": {},
   "source": [
    "Focus on numerator:"
   ]
  },
  {
   "cell_type": "code",
   "execution_count": 157,
   "metadata": {},
   "outputs": [
    {
     "data": {
      "text/latex": [
       "$\\displaystyle x^{2} \\sqrt{x + 1} + 4 x^{2} + 8 x \\sqrt{x + 1} + 12 x + 8 \\sqrt{x + 1} + 8$"
      ],
      "text/plain": [
       "x**2*sqrt(x + 1) + 4*x**2 + 8*x*sqrt(x + 1) + 12*x + 8*sqrt(x + 1) + 8"
      ]
     },
     "execution_count": 157,
     "metadata": {},
     "output_type": "execute_result"
    }
   ],
   "source": [
    "denom = (sqrt(x + 1) + 1)**4 * 2 * (x+1)**2 # always >0\n",
    "simplify(d2pJn*denom )"
   ]
  },
  {
   "cell_type": "markdown",
   "metadata": {},
   "source": [
    "Comment : proof of positivity is _yet to be done_, but seems achievable!"
   ]
  },
  {
   "cell_type": "markdown",
   "metadata": {},
   "source": [
    "### Plots: current, Joule losses, 2nd derivative\n",
    "\n",
    "Note: the normalized plots here do not use the same normalization as in the sympy expression. In the plots, normalization is such that:\n",
    "\n",
    "- $p$ is defined as $>-1$ (like $x$ above)\n",
    "- $i \\approx p$ around 0 (while $i\\approx p/2$ above)\n",
    "- $p_J \\approx p^2$ around 0 (while $p_J \\approx p^2/4$ above)"
   ]
  },
  {
   "cell_type": "code",
   "execution_count": 166,
   "metadata": {},
   "outputs": [
    {
     "data": {
      "image/png": "[encoded data removed]",
      "text/plain": [
       "<Figure size 432x288 with 1 Axes>"
      ]
     },
     "metadata": {
      "needs_background": "light"
     },
     "output_type": "display_data"
    }
   ],
   "source": [
    "x_vec = np.linspace(-0.9999, 2, 300)\n",
    "i_vec = x_vec * 2/(1+np.sqrt(1+x_vec))\n",
    "\n",
    "fig, ax = plt.subplots()\n",
    "ax.axvline(0, color='k', lw=1)\n",
    "ax.axhline(0, color='k', lw=1)\n",
    "ax.axvline(-1, color='tab:red', lw=2, ls=':', label='discharge limit')\n",
    "\n",
    "ax.plot(x_vec, i_vec)\n",
    "ax.plot(x_vec, x_vec, 'C0:', label='$v=v_0$ approx.')\n",
    "\n",
    "ax.legend()\n",
    "ax.set(\n",
    "    title = 'Current i(p), normalized',\n",
    "    xlabel = 'p (normalized)'\n",
    ")\n",
    "ax.grid()"
   ]
  },
  {
   "cell_type": "code",
   "execution_count": 169,
   "metadata": {},
   "outputs": [
    {
     "data": {
      "image/png": "[encoded data removed]",
      "text/plain": [
       "<Figure size 432x288 with 1 Axes>"
      ]
     },
     "metadata": {
      "needs_background": "light"
     },
     "output_type": "display_data"
    }
   ],
   "source": [
    "pJ_vec = i_vec**2\n",
    "\n",
    "fig, ax = plt.subplots()\n",
    "ax.axvline(0, color='k', lw=1)\n",
    "ax.axhline(0, color='k', lw=1)\n",
    "ax.axvline(-1, color='tab:red', lw=2, ls=':', label='discharge limit')\n",
    "\n",
    "ax.plot(x_vec, pJ_vec)\n",
    "ax.plot(x_vec, x_vec**2, 'C0:', label='$v=v_0$ approx.')\n",
    "\n",
    "ax.legend()\n",
    "ax.set(\n",
    "    title = 'Joule losses pJ(p)',\n",
    "    xlabel = 'p',\n",
    "    ylim = (-0.5, 4.1)\n",
    ")\n",
    "ax.grid()\n",
    "\n",
    "fig.savefig('Joule losses pJ(p).png', dpi=200, bbox_inches='tight')"
   ]
  },
  {
   "cell_type": "code",
   "execution_count": 164,
   "metadata": {},
   "outputs": [
    {
     "data": {
      "text/plain": [
       "0.5"
      ]
     },
     "execution_count": 164,
     "metadata": {},
     "output_type": "execute_result"
    }
   ],
   "source": [
    "d2pJ_fun(0)"
   ]
  },
  {
   "cell_type": "code",
   "execution_count": 165,
   "metadata": {},
   "outputs": [
    {
     "data": {
      "image/png": "[encoded data removed]",
      "text/plain": [
       "<Figure size 432x288 with 1 Axes>"
      ]
     },
     "metadata": {
      "needs_background": "light"
     },
     "output_type": "display_data"
    }
   ],
   "source": [
    "d2pJ_fun = lambdify(x, 4*d2pJn, modules=np)\n",
    "\n",
    "fig, ax = plt.subplots()\n",
    "ax.axvline(0, color='k', lw=1)\n",
    "ax.axhline(0, color='k', lw=1)\n",
    "ax.axvline(-1, color='tab:red', lw=2, ls=':', label='discharge limit')\n",
    "\n",
    "ax.plot(x_vec, d2pJ_fun(x_vec))\n",
    "\n",
    "ax.legend()\n",
    "ax.set(\n",
    "    title = 'Second derivative of pJ(p)',\n",
    "    xlabel = 'p',\n",
    "    ylim=(-1,10)\n",
    ")\n",
    "ax.grid()"
   ]
  },
  {
   "cell_type": "markdown",
   "metadata": {},
   "source": [
    "## Effect of $v_0$ variation with SoE\n",
    "\n",
    "Two classical options:\n",
    "\n",
    "- $v_0 = \\sqrt{2E/C}$ (Super caps)\n",
    "- $v_0 = v_{00} + a.E$ (affine approximation for battery OCV)\n",
    "\n",
    "TO BE STUDIED... 21/07/20"
   ]
  },
  {
   "cell_type": "markdown",
   "metadata": {},
   "source": [
    "### Supercaps"
   ]
  },
  {
   "cell_type": "code",
   "execution_count": 177,
   "metadata": {},
   "outputs": [
    {
     "data": {
      "text/latex": [
       "$\\displaystyle \\frac{x^{2}}{y \\left(\\sqrt{\\frac{x}{y} + 1} + 1\\right)^{2}}$"
      ],
      "text/plain": [
       "x**2/(y*(sqrt(x/y + 1) + 1)**2)"
      ]
     },
     "execution_count": 177,
     "metadata": {},
     "output_type": "execute_result"
    }
   ],
   "source": [
    "pJnSC = pJ.subs({R:1, p:x/4, v0:sqrt(y)})*4\n",
    "pJnSC"
   ]
  },
  {
   "cell_type": "code",
   "execution_count": 178,
   "metadata": {},
   "outputs": [
    {
     "data": {
      "text/latex": [
       "$\\displaystyle \\frac{x^{2} \\left(\\frac{x \\left(\\frac{3 x}{y \\left(\\frac{x}{y} + 1\\right) \\left(\\sqrt{\\frac{x}{y} + 1} + 1\\right)} + \\frac{x}{y \\left(\\frac{x}{y} + 1\\right)^{\\frac{3}{2}}} - \\frac{4}{\\sqrt{\\frac{x}{y} + 1}}\\right)}{2 y \\left(\\sqrt{\\frac{x}{y} + 1} + 1\\right)} - \\frac{2 x}{y \\sqrt{\\frac{x}{y} + 1} \\left(\\sqrt{\\frac{x}{y} + 1} + 1\\right)} + 2\\right)}{y^{3} \\left(\\sqrt{\\frac{x}{y} + 1} + 1\\right)^{2}}$"
      ],
      "text/plain": [
       "x**2*(x*(3*x/(y*(x/y + 1)*(sqrt(x/y + 1) + 1)) + x/(y*(x/y + 1)**(3/2)) - 4/sqrt(x/y + 1))/(2*y*(sqrt(x/y + 1) + 1)) - 2*x/(y*sqrt(x/y + 1)*(sqrt(x/y + 1) + 1)) + 2)/(y**3*(sqrt(x/y + 1) + 1)**2)"
      ]
     },
     "execution_count": 178,
     "metadata": {},
     "output_type": "execute_result"
    }
   ],
   "source": [
    "pJnSC.diff(y,2)"
   ]
  }
 ],
 "metadata": {
  "kernelspec": {
   "display_name": "Python 3",
   "language": "python",
   "name": "python3"
  },
  "language_info": {
   "codemirror_mode": {
    "name": "ipython",
    "version": 3
   },
   "file_extension": ".py",
   "mimetype": "text/x-python",
   "name": "python",
   "nbconvert_exporter": "python",
   "pygments_lexer": "ipython3",
   "version": "3.7.7"
  }
 },
 "nbformat": 4,
 "nbformat_minor": 4
}
