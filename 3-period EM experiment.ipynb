{
 "cells": [
  {
   "cell_type": "markdown",
   "metadata": {},
   "source": [
    "# Three-period Energy Management experiment\n",
    "\n",
    "PH, 16 juin 2020\n",
    "\n",
    "Power flow constraint:\n",
    "\n",
    "$$ P_g = P_l + P_b $$\n",
    "\n",
    "ESS dynamics:\n",
    "\n",
    "$$E_b(k+1) = E_b(k+1) + (P_b(k)-loss(k))Δ_t$$"
   ]
  },
  {
   "cell_type": "code",
   "execution_count": 26,
   "metadata": {},
   "outputs": [],
   "source": [
    "import numpy as np\n",
    "import scipy.optimize as opt\n",
    "import matplotlib.pyplot as plt"
   ]
  },
  {
   "cell_type": "code",
   "execution_count": 9,
   "metadata": {},
   "outputs": [],
   "source": [
    "dt = 1. # hour\n",
    "Emax = 1.5 # kWh"
   ]
  },
  {
   "cell_type": "markdown",
   "metadata": {},
   "source": [
    "High-Low-High price scenario"
   ]
  },
  {
   "cell_type": "code",
   "execution_count": 2,
   "metadata": {},
   "outputs": [],
   "source": [
    "cg = np.array([0.2, 0.1, 0.2])"
   ]
  },
  {
   "cell_type": "code",
   "execution_count": 5,
   "metadata": {},
   "outputs": [],
   "source": [
    "Pl = np.array([0., 0., 1.])"
   ]
  },
  {
   "cell_type": "code",
   "execution_count": 8,
   "metadata": {},
   "outputs": [
    {
     "data": {
      "image/png": "[encoded data removed]",
      "text/plain": [
       "<Figure size 432x288 with 1 Axes>"
      ]
     },
     "metadata": {
      "needs_background": "light"
     },
     "output_type": "display_data"
    }
   ],
   "source": [
    "plt.plot(Pl, 'o-')\n",
    "plt.plot(cg, 'd-')\n",
    "plt.grid()"
   ]
  },
  {
   "cell_type": "code",
   "execution_count": 10,
   "metadata": {},
   "outputs": [],
   "source": [
    "def loss0(Pb, Eb):\n",
    "    return 0"
   ]
  },
  {
   "cell_type": "code",
   "execution_count": 11,
   "metadata": {},
   "outputs": [],
   "source": [
    "a1 = 0.1\n",
    "def loss1(Pb, Eb):\n",
    "    return a1 * np.abs(Pb)"
   ]
  },
  {
   "cell_type": "code",
   "execution_count": 12,
   "metadata": {},
   "outputs": [],
   "source": [
    "a2 = 0.2\n",
    "def loss2(Pb, Eb):\n",
    "    return a2 * Pb**2"
   ]
  },
  {
   "cell_type": "markdown",
   "metadata": {},
   "source": [
    "## Exploration\n",
    "\n",
    "using no solver, just studying the solution space"
   ]
  },
  {
   "cell_type": "code",
   "execution_count": 52,
   "metadata": {},
   "outputs": [],
   "source": [
    "def eval_cost(Pg1, Pg2, loss):\n",
    "    Pb = np.array([0., 0., 0.])\n",
    "    Eb = np.array([0., 0., 0., 0.])\n",
    "    Pg = np.array([Pg1, Pg2, 0.])\n",
    "    for k in [0,1]:\n",
    "        Pb[k] = Pg[k] - Pl[k]\n",
    "        Eb[k+1] = Eb[k] + (Pb[k] - loss(Pb[k], Eb[k]))*dt\n",
    "    # last instant: empty the storage\n",
    "    def f(Pb, Eb, loss):\n",
    "        E_next = Eb + (Pb - loss(Pb, Eb))*dt\n",
    "        return E_next\n",
    "    res = opt.root_scalar(f, args=(Eb[2],loss),\n",
    "                          bracket=[-2*Eb[2]/dt, 0])\n",
    "    Pb[2] = res.root\n",
    "    Pg[2] = Pb[2] + Pl[2]\n",
    "    \n",
    "    return np.sum(cg * Pg), "
   ]
  },
  {
   "cell_type": "code",
   "execution_count": 53,
   "metadata": {},
   "outputs": [
    {
     "data": {
      "text/plain": [
       "(0.2,\n",
       " 0.23636363636363636,\n",
       " 0.24040404040404043,\n",
       " 0.2596875762567151,\n",
       " 0.1942561475697998)"
      ]
     },
     "execution_count": 53,
     "metadata": {},
     "output_type": "execute_result"
    }
   ],
   "source": [
    "eval_cost(1, 0, loss0), \\\n",
    "eval_cost(1, 0, loss1), \\\n",
    "eval_cost(1/0.9, 0, loss1), \\\n",
    "eval_cost(1, 0, loss2), \\\n",
    "eval_cost(0.5, 0.5, loss2)"
   ]
  },
  {
   "cell_type": "code",
   "execution_count": 37,
   "metadata": {},
   "outputs": [
    {
     "data": {
      "text/plain": [
       "-0.7787192621510011"
      ]
     },
     "execution_count": 37,
     "metadata": {},
     "output_type": "execute_result"
    }
   ],
   "source": []
  }
 ],
 "metadata": {
  "kernelspec": {
   "display_name": "Python 3",
   "language": "python",
   "name": "python3"
  },
  "language_info": {
   "codemirror_mode": {
    "name": "ipython",
    "version": 3
   },
   "file_extension": ".py",
   "mimetype": "text/x-python",
   "name": "python",
   "nbconvert_exporter": "python",
   "pygments_lexer": "ipython3",
   "version": "3.7.7"
  }
 },
 "nbformat": 4,
 "nbformat_minor": 4
}
