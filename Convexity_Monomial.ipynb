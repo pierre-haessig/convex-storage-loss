{
 "cells": [
  {
   "cell_type": "markdown",
   "metadata": {},
   "source": [
    "# Convexity of monomial expressions\n",
    "\n",
    "In this document, we study the convexity of monomial expressions like $x,y \\mapsto x^a.y^b$\n",
    "on the positive orthant ($x,y>0$).\n",
    "The goal is to find conditions (e.g. on coefficients $a,b$) under which such expression is convex.\n",
    "\n",
    "PH, December 2020"
   ]
  },
  {
   "cell_type": "code",
   "execution_count": 4,
   "metadata": {},
   "outputs": [],
   "source": [
    "import sympy\n",
    "from sympy import symbols, Function, Matrix, simplify, invert"
   ]
  },
  {
   "cell_type": "code",
   "execution_count": 7,
   "metadata": {},
   "outputs": [],
   "source": [
    "a,b,c = symbols('a b c')\n",
    "x,y,z = symbols('x y z', positive=True)"
   ]
  },
  {
   "cell_type": "code",
   "execution_count": 11,
   "metadata": {},
   "outputs": [],
   "source": [
    "def Hessian(f, *args):\n",
    "    \"\"\"returns Hessian of expression `f`, with variables specified by `*args`\n",
    "    \n",
    "    Example:\n",
    "    >>> Hessian(x**3 * y**2, x, y)\n",
    "    Matrix([[6*x*y**2, 6*x**2*y], [6*x**2*y, 2*x**3]])\n",
    "    \"\"\"\n",
    "    H = [[f.diff(xi).diff(xj) for xi in args] for xj in args]\n",
    "    H = Matrix(H)\n",
    "    H = simplify(H)\n",
    "    return H"
   ]
  },
  {
   "cell_type": "markdown",
   "metadata": {},
   "source": [
    "## 2D separable expression, linear in $x$\n",
    "\n",
    "This is section deals with a more general case than monomial expression.\n",
    "We consider a 2D separable expression which is linear in $x$:\n",
    "\n",
    "$$f x,y \\mapsto x.\\rho(y)$$\n",
    "\n",
    "i.e. this corresponds to the case $a=1$ in the next section,\n",
    "but the dependency in $y$ is any function $\\rho$, rather than the power law $y\\mapsto y^b$.\n",
    "\n",
    "The Hessian of $f$ is \n",
    "\n",
    "$$H(x,y) = \n",
    "\\begin{bmatrix}\n",
    "    0        &  \\rho'(y) \\\\\n",
    "    \\rho'(y) & x\\rho''(y)\n",
    "\\end{bmatrix}\n",
    "$$\n",
    "\n",
    "The conditions for $H$ to be definite semi-positive (for all $x,y>0$) are:\n",
    "* non-negative diagonal terms, i.e. $\\rho''>0$, that is $\\rho$ should be convex\n",
    "* non-negative determinant\n",
    "\n",
    "The 2nd condition is:\n",
    "\n",
    "$$0 - \\rho'^2 \\geq 0$$\n",
    "\n",
    "which becomes $\\rho' = 0$.\n",
    "\n",
    "This means that only **constant** $rho$ functions are allowed for the $x.\\rho(y)$ to be convex.\n",
    "\n",
    "Translated in the context of storage loss models, this means that among PWL-in-$P$ models,\n",
    "only *constant efficiency charge/discharge coefficients* yield convex expressions.\n",
    "In particular, energy dependent efficiency coefficients ($\\eta(E)$), even if convex in $E$,\n",
    "do not yield convex loss models."
   ]
  },
  {
   "cell_type": "code",
   "execution_count": 13,
   "metadata": {},
   "outputs": [
    {
     "data": {
      "text/latex": [
       "$\\displaystyle \\left[\\begin{matrix}0 & \\frac{d}{d y} ρ{\\left(y \\right)}\\\\\\frac{d}{d y} ρ{\\left(y \\right)} & x \\frac{d^{2}}{d y^{2}} ρ{\\left(y \\right)}\\end{matrix}\\right]$"
      ],
      "text/plain": [
       "Matrix([\n",
       "[                  0,        Derivative(ρ(y), y)],\n",
       "[Derivative(ρ(y), y), x*Derivative(ρ(y), (y, 2))]])"
      ]
     },
     "execution_count": 13,
     "metadata": {},
     "output_type": "execute_result"
    }
   ],
   "source": [
    "ρ = Function('ρ')\n",
    "Hessian(ρ(y)*x, x,y)"
   ]
  },
  {
   "cell_type": "code",
   "execution_count": 14,
   "metadata": {},
   "outputs": [
    {
     "data": {
      "text/latex": [
       "$\\displaystyle - \\left(\\frac{d}{d y} ρ{\\left(y \\right)}\\right)^{2}$"
      ],
      "text/plain": [
       "-Derivative(ρ(y), y)**2"
      ]
     },
     "execution_count": 14,
     "metadata": {},
     "output_type": "execute_result"
    }
   ],
   "source": [
    "Hessian(ρ(y)*x, x,y).det()"
   ]
  },
  {
   "cell_type": "markdown",
   "metadata": {},
   "source": [
    "## 2D monomial \n",
    "\n",
    "E.g useful for loss model dependent in power ($x$) and energy ($y$) or any other 2nd variable (temperature, aging).\n",
    "In this context, coefficient $a$ can be supposed positive (losses increase with $x$).\n",
    "\n",
    "$f_2: x,y \\mapsto x^a.y^b$"
   ]
  },
  {
   "cell_type": "code",
   "execution_count": 15,
   "metadata": {},
   "outputs": [
    {
     "data": {
      "text/latex": [
       "$\\displaystyle x^{a} y^{b}$"
      ],
      "text/plain": [
       "x**a*y**b"
      ]
     },
     "execution_count": 15,
     "metadata": {},
     "output_type": "execute_result"
    }
   ],
   "source": [
    "f2 = x**a * y**b\n",
    "f2"
   ]
  },
  {
   "cell_type": "code",
   "execution_count": 16,
   "metadata": {},
   "outputs": [
    {
     "data": {
      "text/latex": [
       "$\\displaystyle \\left[\\begin{matrix}a x^{a - 2} y^{b} \\left(a - 1\\right) & a b x^{a - 1} y^{b - 1}\\\\a b x^{a - 1} y^{b - 1} & b x^{a} y^{b - 2} \\left(b - 1\\right)\\end{matrix}\\right]$"
      ],
      "text/plain": [
       "Matrix([\n",
       "[a*x**(a - 2)*y**b*(a - 1), a*b*x**(a - 1)*y**(b - 1)],\n",
       "[a*b*x**(a - 1)*y**(b - 1), b*x**a*y**(b - 2)*(b - 1)]])"
      ]
     },
     "execution_count": 16,
     "metadata": {},
     "output_type": "execute_result"
    }
   ],
   "source": [
    "H2 = Hessian(f2, x, y)\n",
    "H2"
   ]
  },
  {
   "cell_type": "markdown",
   "metadata": {},
   "source": [
    "The Hessian has a simpler expression if divided by $f_2$:"
   ]
  },
  {
   "cell_type": "code",
   "execution_count": 17,
   "metadata": {},
   "outputs": [
    {
     "data": {
      "text/latex": [
       "$\\displaystyle \\left[\\begin{matrix}\\frac{a \\left(a - 1\\right)}{x^{2}} & \\frac{a b}{x y}\\\\\\frac{a b}{x y} & \\frac{b \\left(b - 1\\right)}{y^{2}}\\end{matrix}\\right]$"
      ],
      "text/plain": [
       "Matrix([\n",
       "[a*(a - 1)/x**2,      a*b/(x*y)],\n",
       "[     a*b/(x*y), b*(b - 1)/y**2]])"
      ]
     },
     "execution_count": 17,
     "metadata": {},
     "output_type": "execute_result"
    }
   ],
   "source": [
    "simplify(H2/f2)"
   ]
  },
  {
   "cell_type": "markdown",
   "metadata": {},
   "source": [
    "Perhaps Hessian is even simpler if multiplied by $\\frac{xy}{f}$"
   ]
  },
  {
   "cell_type": "code",
   "execution_count": 18,
   "metadata": {},
   "outputs": [
    {
     "data": {
      "text/latex": [
       "$\\displaystyle \\left[\\begin{matrix}\\frac{a y \\left(a - 1\\right)}{x} & a b\\\\a b & \\frac{b x \\left(b - 1\\right)}{y}\\end{matrix}\\right]$"
      ],
      "text/plain": [
       "Matrix([\n",
       "[a*y*(a - 1)/x,           a*b],\n",
       "[          a*b, b*x*(b - 1)/y]])"
      ]
     },
     "execution_count": 18,
     "metadata": {},
     "output_type": "execute_result"
    }
   ],
   "source": [
    "simplify(H2*x*y/f2)"
   ]
  },
  {
   "cell_type": "markdown",
   "metadata": {},
   "source": [
    "Determinant:\n",
    "\n",
    "$$\\det  \\frac{xy}{f} H_2 = ab(1-a-b)$$\n",
    "\n",
    "so we have\n",
    "\n",
    "$$\\det  H_2 = \\frac{f_2^2}{x^2y^2}[ab(1-a-b)]$$\n",
    "\n",
    "(reminder: $\\det kA = k^n \\det A$, where $n$ is the dimention of matrix $A$)"
   ]
  },
  {
   "cell_type": "code",
   "execution_count": 36,
   "metadata": {},
   "outputs": [
    {
     "data": {
      "text/latex": [
       "$\\displaystyle a b \\left(- a - b + 1\\right)$"
      ],
      "text/plain": [
       "a*b*(-a - b + 1)"
      ]
     },
     "execution_count": 36,
     "metadata": {},
     "output_type": "execute_result"
    }
   ],
   "source": [
    "d2 = simplify((H2*x*y/f2).det())\n",
    "d2"
   ]
  },
  {
   "cell_type": "markdown",
   "metadata": {},
   "source": [
    "**TODO**: \n",
    "\n",
    "- Write down convexity proof here\n",
    "- Plot 2D heatmap of the determinant, to show where it is positive\n",
    "- Insert png version of the illustration:\n",
    "\n",
    "![Convexity of f2 illustrated in ab plane](ab_convexity.svg)"
   ]
  },
  {
   "cell_type": "markdown",
   "metadata": {},
   "source": [
    "### Inverse of Hessian\n",
    "\n",
    "Inverse of $H_2$ (needed for next section):\n",
    "\n",
    "again the same trick of multiplying by $f^{-1}$ or $\\frac{xy}{f}$ makes the expression simpler:"
   ]
  },
  {
   "cell_type": "code",
   "execution_count": 21,
   "metadata": {},
   "outputs": [
    {
     "data": {
      "text/latex": [
       "$\\displaystyle \\left[\\begin{matrix}\\frac{x^{2} \\left(1 - b\\right)}{a \\left(a + b - 1\\right)} & \\frac{x y}{a + b - 1}\\\\\\frac{x y}{a + b - 1} & \\frac{y^{2} \\left(1 - a\\right)}{b \\left(a + b - 1\\right)}\\end{matrix}\\right]$"
      ],
      "text/plain": [
       "Matrix([\n",
       "[x**2*(1 - b)/(a*(a + b - 1)),              x*y/(a + b - 1)],\n",
       "[             x*y/(a + b - 1), y**2*(1 - a)/(b*(a + b - 1))]])"
      ]
     },
     "execution_count": 21,
     "metadata": {},
     "output_type": "execute_result"
    }
   ],
   "source": [
    "simplify((H2/f2).inverse())"
   ]
  },
  {
   "cell_type": "markdown",
   "metadata": {},
   "source": [
    "multiply by $ab(1-a-b)$ (det of $H_2 x y/f_2$):"
   ]
  },
  {
   "cell_type": "code",
   "execution_count": 38,
   "metadata": {},
   "outputs": [
    {
     "data": {
      "text/latex": [
       "$\\displaystyle \\left[\\begin{matrix}b x^{2} \\left(b - 1\\right) & - a b x y\\\\- a b x y & a y^{2} \\left(a - 1\\right)\\end{matrix}\\right]$"
      ],
      "text/plain": [
       "Matrix([\n",
       "[b*x**2*(b - 1),       -a*b*x*y],\n",
       "[      -a*b*x*y, a*y**2*(a - 1)]])"
      ]
     },
     "execution_count": 38,
     "metadata": {},
     "output_type": "execute_result"
    }
   ],
   "source": [
    "simplify((H2/f2).inverse()*d2)"
   ]
  },
  {
   "cell_type": "code",
   "execution_count": 22,
   "metadata": {},
   "outputs": [
    {
     "data": {
      "text/latex": [
       "$\\displaystyle \\left[\\begin{matrix}\\frac{x \\left(1 - b\\right)}{a y \\left(a + b - 1\\right)} & \\frac{1}{a + b - 1}\\\\\\frac{1}{a + b - 1} & \\frac{y \\left(1 - a\\right)}{b x \\left(a + b - 1\\right)}\\end{matrix}\\right]$"
      ],
      "text/plain": [
       "Matrix([\n",
       "[x*(1 - b)/(a*y*(a + b - 1)),               1/(a + b - 1)],\n",
       "[              1/(a + b - 1), y*(1 - a)/(b*x*(a + b - 1))]])"
      ]
     },
     "execution_count": 22,
     "metadata": {},
     "output_type": "execute_result"
    }
   ],
   "source": [
    "simplify((H2*x*y/f2).inverse())"
   ]
  },
  {
   "cell_type": "markdown",
   "metadata": {},
   "source": [
    "## 3D monomial\n",
    "\n",
    "$f_3: x,y,z \\mapsto x^a.y^b.z^c$\n",
    "\n",
    "For convexity analysis, we will build on the convexity of the 2D case, by using [Conditions for semi-definiteness using Schur complement](https://en.wikipedia.org/wiki/Schur_complement#Conditions_for_positive_definiteness_and_semi-definiteness)."
   ]
  },
  {
   "cell_type": "code",
   "execution_count": 24,
   "metadata": {},
   "outputs": [
    {
     "data": {
      "text/latex": [
       "$\\displaystyle x^{a} y^{b} z^{c}$"
      ],
      "text/plain": [
       "x**a*y**b*z**c"
      ]
     },
     "execution_count": 24,
     "metadata": {},
     "output_type": "execute_result"
    }
   ],
   "source": [
    "f3 = x**a * y**b * z**c\n",
    "f3"
   ]
  },
  {
   "cell_type": "code",
   "execution_count": 25,
   "metadata": {},
   "outputs": [
    {
     "data": {
      "text/latex": [
       "$\\displaystyle \\left[\\begin{matrix}a x^{a - 2} y^{b} z^{c} \\left(a - 1\\right) & a b x^{a - 1} y^{b - 1} z^{c} & a c x^{a - 1} y^{b} z^{c - 1}\\\\a b x^{a - 1} y^{b - 1} z^{c} & b x^{a} y^{b - 2} z^{c} \\left(b - 1\\right) & b c x^{a} y^{b - 1} z^{c - 1}\\\\a c x^{a - 1} y^{b} z^{c - 1} & b c x^{a} y^{b - 1} z^{c - 1} & c x^{a} y^{b} z^{c - 2} \\left(c - 1\\right)\\end{matrix}\\right]$"
      ],
      "text/plain": [
       "Matrix([\n",
       "[a*x**(a - 2)*y**b*z**c*(a - 1), a*b*x**(a - 1)*y**(b - 1)*z**c, a*c*x**(a - 1)*y**b*z**(c - 1)],\n",
       "[a*b*x**(a - 1)*y**(b - 1)*z**c, b*x**a*y**(b - 2)*z**c*(b - 1), b*c*x**a*y**(b - 1)*z**(c - 1)],\n",
       "[a*c*x**(a - 1)*y**b*z**(c - 1), b*c*x**a*y**(b - 1)*z**(c - 1), c*x**a*y**b*z**(c - 2)*(c - 1)]])"
      ]
     },
     "execution_count": 25,
     "metadata": {},
     "output_type": "execute_result"
    }
   ],
   "source": [
    "H3 = Hessian(f3, x, y, z)\n",
    "H3"
   ]
  },
  {
   "cell_type": "markdown",
   "metadata": {},
   "source": [
    "Again same trick is to consider $H/f$ to get simpler expressions:"
   ]
  },
  {
   "cell_type": "code",
   "execution_count": 28,
   "metadata": {},
   "outputs": [
    {
     "data": {
      "text/latex": [
       "$\\displaystyle \\left[\\begin{matrix}\\frac{a \\left(a - 1\\right)}{x^{2}} & \\frac{a b}{x y} & \\frac{a c}{x z}\\\\\\frac{a b}{x y} & \\frac{b \\left(b - 1\\right)}{y^{2}} & \\frac{b c}{y z}\\\\\\frac{a c}{x z} & \\frac{b c}{y z} & \\frac{c \\left(c - 1\\right)}{z^{2}}\\end{matrix}\\right]$"
      ],
      "text/plain": [
       "Matrix([\n",
       "[a*(a - 1)/x**2,      a*b/(x*y),      a*c/(x*z)],\n",
       "[     a*b/(x*y), b*(b - 1)/y**2,      b*c/(y*z)],\n",
       "[     a*c/(x*z),      b*c/(y*z), c*(c - 1)/z**2]])"
      ]
     },
     "execution_count": 28,
     "metadata": {},
     "output_type": "execute_result"
    }
   ],
   "source": [
    "J3 = simplify(H3/f3)\n",
    "J3"
   ]
  },
  {
   "cell_type": "markdown",
   "metadata": {},
   "source": [
    "We split the matrix into blocks to apply the Schur complement based method\n",
    "\n",
    "$$J = H_3/f = \\begin{bmatrix}\n",
    "    A   &B\\\\\n",
    "    B^T &d\n",
    "\\end{bmatrix}\n",
    "$$\n",
    "\n",
    "with:\n",
    "* $A = H_2/f_2$, studied above\n",
    "* $B^T = [ab/xy, ac/xz]$\n",
    "* $d = c(c-1)/z^2$\n",
    "\n",
    "We use the following result: \n",
    "\n",
    "If $A\\succ 0$ (equiv. to $\\succeq 0$ and invertible?),\n",
    "then:\n",
    "\n",
    "> $J \\succeq 0$ is equivalent to $J/A\\succeq 0$\n",
    "\n",
    "where $$J/A = d - B^T A^{-1} B$$ is the _Schur complement_ of block $A$ of matrix $J$.\n",
    "Because of the way we split $J$, it is a _scalar_ ($1\\times1$).\n",
    "\n",
    "So we have to compute this Schur complement.\n",
    "\n",
    "First, extract the three blocks of $J$."
   ]
  },
  {
   "cell_type": "code",
   "execution_count": 29,
   "metadata": {},
   "outputs": [
    {
     "data": {
      "text/latex": [
       "$\\displaystyle \\left[\\begin{matrix}\\frac{a \\left(a - 1\\right)}{x^{2}} & \\frac{a b}{x y}\\\\\\frac{a b}{x y} & \\frac{b \\left(b - 1\\right)}{y^{2}}\\end{matrix}\\right]$"
      ],
      "text/plain": [
       "Matrix([\n",
       "[a*(a - 1)/x**2,      a*b/(x*y)],\n",
       "[     a*b/(x*y), b*(b - 1)/y**2]])"
      ]
     },
     "execution_count": 29,
     "metadata": {},
     "output_type": "execute_result"
    }
   ],
   "source": [
    "A = J3[0:2,0:2] \n",
    "A #  == H2/f2"
   ]
  },
  {
   "cell_type": "code",
   "execution_count": 30,
   "metadata": {},
   "outputs": [
    {
     "data": {
      "text/latex": [
       "$\\displaystyle \\left[\\begin{matrix}\\frac{a \\left(a - 1\\right)}{x^{2}} & \\frac{a b}{x y}\\\\\\frac{a b}{x y} & \\frac{b \\left(b - 1\\right)}{y^{2}}\\end{matrix}\\right]$"
      ],
      "text/plain": [
       "Matrix([\n",
       "[a*(a - 1)/x**2,      a*b/(x*y)],\n",
       "[     a*b/(x*y), b*(b - 1)/y**2]])"
      ]
     },
     "execution_count": 30,
     "metadata": {},
     "output_type": "execute_result"
    }
   ],
   "source": [
    "simplify(H2/f2)"
   ]
  },
  {
   "cell_type": "code",
   "execution_count": 31,
   "metadata": {},
   "outputs": [
    {
     "data": {
      "text/latex": [
       "$\\displaystyle \\frac{c \\left(c - 1\\right)}{z^{2}}$"
      ],
      "text/plain": [
       "c*(c - 1)/z**2"
      ]
     },
     "execution_count": 31,
     "metadata": {},
     "output_type": "execute_result"
    }
   ],
   "source": [
    "d = J3[2,2]\n",
    "d"
   ]
  },
  {
   "cell_type": "code",
   "execution_count": 33,
   "metadata": {},
   "outputs": [
    {
     "data": {
      "text/latex": [
       "$\\displaystyle \\left[\\begin{matrix}\\frac{a c}{x z}\\\\\\frac{b c}{y z}\\end{matrix}\\right]$"
      ],
      "text/plain": [
       "Matrix([\n",
       "[a*c/(x*z)],\n",
       "[b*c/(y*z)]])"
      ]
     },
     "execution_count": 33,
     "metadata": {},
     "output_type": "execute_result"
    }
   ],
   "source": [
    "B = J3[0:2,2]\n",
    "B"
   ]
  },
  {
   "cell_type": "markdown",
   "metadata": {},
   "source": [
    "### Computation of Schur complement $J/A$\n",
    "\n",
    "step by step:\n",
    "1. Invert $A$\n",
    "2. Multiply with $B^T$ and $B$"
   ]
  },
  {
   "cell_type": "code",
   "execution_count": 34,
   "metadata": {},
   "outputs": [
    {
     "data": {
      "text/latex": [
       "$\\displaystyle \\left[\\begin{matrix}\\frac{x^{2} \\left(1 - b\\right)}{a \\left(a + b - 1\\right)} & \\frac{x y}{a + b - 1}\\\\\\frac{x y}{a + b - 1} & \\frac{y^{2} \\left(1 - a\\right)}{b \\left(a + b - 1\\right)}\\end{matrix}\\right]$"
      ],
      "text/plain": [
       "Matrix([\n",
       "[x**2*(1 - b)/(a*(a + b - 1)),              x*y/(a + b - 1)],\n",
       "[             x*y/(a + b - 1), y**2*(1 - a)/(b*(a + b - 1))]])"
      ]
     },
     "execution_count": 34,
     "metadata": {},
     "output_type": "execute_result"
    }
   ],
   "source": [
    "Ainv = simplify(A.inv())\n",
    "Ainv"
   ]
  },
  {
   "cell_type": "code",
   "execution_count": 35,
   "metadata": {},
   "outputs": [
    {
     "data": {
      "text/latex": [
       "$\\displaystyle \\left[\\begin{matrix}\\frac{c x}{z \\left(a + b - 1\\right)}\\\\\\frac{c y}{z \\left(a + b - 1\\right)}\\end{matrix}\\right]$"
      ],
      "text/plain": [
       "Matrix([\n",
       "[c*x/(z*(a + b - 1))],\n",
       "[c*y/(z*(a + b - 1))]])"
      ]
     },
     "execution_count": 35,
     "metadata": {},
     "output_type": "execute_result"
    }
   ],
   "source": [
    "simplify(Ainv*B)"
   ]
  },
  {
   "cell_type": "markdown",
   "metadata": {},
   "source": [
    "Clarify the expression:\n",
    "\n",
    "$A^{-1}.B = -\\frac{c}{z(1-a-b)} (x,y)^T$"
   ]
  },
  {
   "cell_type": "code",
   "execution_count": 42,
   "metadata": {},
   "outputs": [
    {
     "data": {
      "text/latex": [
       "$\\displaystyle \\left[\\begin{matrix}x\\\\y\\end{matrix}\\right]$"
      ],
      "text/plain": [
       "Matrix([\n",
       "[x],\n",
       "[y]])"
      ]
     },
     "execution_count": 42,
     "metadata": {},
     "output_type": "execute_result"
    }
   ],
   "source": [
    "simplify(Ainv*B /(-c/z/(1-a-b))) "
   ]
  },
  {
   "cell_type": "markdown",
   "metadata": {},
   "source": [
    "$B^TA^{-1}.B$ is quite simple:"
   ]
  },
  {
   "cell_type": "code",
   "execution_count": 64,
   "metadata": {},
   "outputs": [
    {
     "data": {
      "text/latex": [
       "$\\displaystyle \\frac{c^{2} \\left(a + b\\right)}{z^{2} \\left(a + b - 1\\right)}$"
      ],
      "text/plain": [
       "c**2*(a + b)/(z**2*(a + b - 1))"
      ]
     },
     "execution_count": 64,
     "metadata": {},
     "output_type": "execute_result"
    }
   ],
   "source": [
    "BtAiB = simplify((B.T*Ainv*B)[0,0])\n",
    "BtAiB"
   ]
  },
  {
   "cell_type": "markdown",
   "metadata": {},
   "source": [
    "Finally, the Schur complement: (which need to be positive for convexity)"
   ]
  },
  {
   "cell_type": "code",
   "execution_count": 68,
   "metadata": {},
   "outputs": [
    {
     "data": {
      "text/latex": [
       "$\\displaystyle - \\frac{c \\left(a + b + c - 1\\right)}{z^{2} \\left(a + b - 1\\right)}$"
      ],
      "text/plain": [
       "-c*(a + b + c - 1)/(z**2*(a + b - 1))"
      ]
     },
     "execution_count": 68,
     "metadata": {},
     "output_type": "execute_result"
    }
   ],
   "source": [
    "S = simplify(d - BtAiB)\n",
    "S "
   ]
  },
  {
   "cell_type": "markdown",
   "metadata": {},
   "source": [
    "Remove positive factors $z^2$ and $(a+b-1)$: (2nd one TO BE CHECKED)"
   ]
  },
  {
   "cell_type": "code",
   "execution_count": 71,
   "metadata": {},
   "outputs": [
    {
     "data": {
      "text/latex": [
       "$\\displaystyle c \\left(- a - b - c + 1\\right)$"
      ],
      "text/plain": [
       "c*(-a - b - c + 1)"
      ]
     },
     "execution_count": 71,
     "metadata": {},
     "output_type": "execute_result"
    }
   ],
   "source": [
    "simplify(S * z**2 * (a+b-1))"
   ]
  },
  {
   "cell_type": "markdown",
   "metadata": {},
   "source": [
    "Conclusion: (TO BE CHECKED and WRITTEN MORE CLEARLY)\n",
    "\n",
    "for $c<0$:\n",
    "\n",
    "$$a+b+c \\geq 1$$"
   ]
  }
 ],
 "metadata": {
  "kernelspec": {
   "display_name": "Python 3",
   "language": "python",
   "name": "python3"
  },
  "language_info": {
   "codemirror_mode": {
    "name": "ipython",
    "version": 3
   },
   "file_extension": ".py",
   "mimetype": "text/x-python",
   "name": "python",
   "nbconvert_exporter": "python",
   "pygments_lexer": "ipython3",
   "version": "3.8.2"
  }
 },
 "nbformat": 4,
 "nbformat_minor": 4
}
